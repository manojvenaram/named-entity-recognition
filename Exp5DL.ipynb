{
  "nbformat": 4,
  "nbformat_minor": 0,
  "metadata": {
    "colab": {
      "provenance": []
    },
    "kernelspec": {
      "name": "python3",
      "display_name": "Python 3"
    },
    "language_info": {
      "name": "python"
    }
  },
  "cells": [
    {
      "cell_type": "code",
      "execution_count": 8,
      "metadata": {
        "id": "6q7ebGgf2sTB"
      },
      "outputs": [],
      "source": [
        "import numpy as np\n",
        "import matplotlib.pyplot as plt\n",
        "import pandas as pd\n",
        "from sklearn.preprocessing import MinMaxScaler\n",
        "from keras import layers\n",
        "from keras.models import Sequential"
      ]
    },
    {
      "cell_type": "code",
      "source": [
        "dataset_train = pd.read_csv('trainset.csv')\n",
        "dataset_train.columns"
      ],
      "metadata": {
        "colab": {
          "base_uri": "https://localhost:8080/"
        },
        "id": "uorDiLIQ4Nfe",
        "outputId": "9e702b31-29a5-41ee-f30e-254384c07899"
      },
      "execution_count": 9,
      "outputs": [
        {
          "output_type": "execute_result",
          "data": {
            "text/plain": [
              "Index(['Date', 'Open', 'High', 'Low', 'Close', 'Adj Close', 'Volume'], dtype='object')"
            ]
          },
          "metadata": {},
          "execution_count": 9
        }
      ]
    },
    {
      "cell_type": "code",
      "source": [
        "dataset_train.head()\n",
        "\n",
        "train_set = dataset_train.iloc[:,1:2].values\n",
        "print(type(train_set))\n",
        "\n",
        "train_set.shape"
      ],
      "metadata": {
        "colab": {
          "base_uri": "https://localhost:8080/"
        },
        "id": "6c1qcH2t3awb",
        "outputId": "8d135443-279f-4cb9-d875-ab5809be229e"
      },
      "execution_count": 10,
      "outputs": [
        {
          "output_type": "stream",
          "name": "stdout",
          "text": [
            "<class 'numpy.ndarray'>\n"
          ]
        },
        {
          "output_type": "execute_result",
          "data": {
            "text/plain": [
              "(1259, 1)"
            ]
          },
          "metadata": {},
          "execution_count": 10
        }
      ]
    },
    {
      "cell_type": "code",
      "source": [
        "sc = MinMaxScaler(feature_range=(0,1))\n",
        "training_set_scaled = sc.fit_transform(train_set)\n",
        "training_set_scaled.shape"
      ],
      "metadata": {
        "colab": {
          "base_uri": "https://localhost:8080/"
        },
        "id": "mNuHQsIZ4Rc2",
        "outputId": "77f9d3bf-f5bb-4328-f885-f446b4a5f80d"
      },
      "execution_count": 11,
      "outputs": [
        {
          "output_type": "execute_result",
          "data": {
            "text/plain": [
              "(1259, 1)"
            ]
          },
          "metadata": {},
          "execution_count": 11
        }
      ]
    },
    {
      "cell_type": "code",
      "source": [
        "X_train_array = []\n",
        "y_train_array = []\n",
        "for i in range(60, 1259):\n",
        "    X_train_array.append(training_set_scaled[i-60:i,0])\n",
        "    y_train_array.append(training_set_scaled[i,0])\n",
        "X_train, y_train = np.array(X_train_array), np.array(y_train_array)\n",
        "X_train1 = X_train.reshape((X_train.shape[0], X_train.shape[1],1))\n",
        "\n",
        "X_train.shape"
      ],
      "metadata": {
        "colab": {
          "base_uri": "https://localhost:8080/"
        },
        "id": "OISxwKte4Si0",
        "outputId": "9f15ee14-420e-4f42-ad64-06bee237becc"
      },
      "execution_count": 12,
      "outputs": [
        {
          "output_type": "execute_result",
          "data": {
            "text/plain": [
              "(1199, 60)"
            ]
          },
          "metadata": {},
          "execution_count": 12
        }
      ]
    },
    {
      "cell_type": "code",
      "source": [
        "length = 60\n",
        "n_features = 1\n",
        "\n",
        "model = Sequential([layers.SimpleRNN(42,input_shape=(60,1)),\n",
        "                    layers.Dense(1)])\n",
        "\n",
        "model.compile(optimizer='adam',loss='mse')\n",
        "model.summary()\n",
        "\n",
        "model.fit(X_train1,y_train,epochs=20, batch_size=32)"
      ],
      "metadata": {
        "colab": {
          "base_uri": "https://localhost:8080/"
        },
        "id": "ZgTUrzX93ytS",
        "outputId": "7bffe204-9785-4dbc-9eec-dbbd6c317293"
      },
      "execution_count": 13,
      "outputs": [
        {
          "output_type": "stream",
          "name": "stdout",
          "text": [
            "Model: \"sequential_2\"\n",
            "_________________________________________________________________\n",
            " Layer (type)                Output Shape              Param #   \n",
            "=================================================================\n",
            " simple_rnn_2 (SimpleRNN)    (None, 42)                1848      \n",
            "                                                                 \n",
            " dense_2 (Dense)             (None, 1)                 43        \n",
            "                                                                 \n",
            "=================================================================\n",
            "Total params: 1891 (7.39 KB)\n",
            "Trainable params: 1891 (7.39 KB)\n",
            "Non-trainable params: 0 (0.00 Byte)\n",
            "_________________________________________________________________\n",
            "Epoch 1/20\n",
            "38/38 [==============================] - 2s 6ms/step - loss: 0.0341\n",
            "Epoch 2/20\n",
            "38/38 [==============================] - 0s 6ms/step - loss: 0.0013\n",
            "Epoch 3/20\n",
            "38/38 [==============================] - 0s 6ms/step - loss: 9.4925e-04\n",
            "Epoch 4/20\n",
            "38/38 [==============================] - 0s 7ms/step - loss: 8.6654e-04\n",
            "Epoch 5/20\n",
            "38/38 [==============================] - 0s 6ms/step - loss: 7.4192e-04\n",
            "Epoch 6/20\n",
            "38/38 [==============================] - 0s 6ms/step - loss: 6.6733e-04\n",
            "Epoch 7/20\n",
            "38/38 [==============================] - 0s 6ms/step - loss: 6.0064e-04\n",
            "Epoch 8/20\n",
            "38/38 [==============================] - 0s 6ms/step - loss: 5.5890e-04\n",
            "Epoch 9/20\n",
            "38/38 [==============================] - 0s 7ms/step - loss: 5.0882e-04\n",
            "Epoch 10/20\n",
            "38/38 [==============================] - 0s 6ms/step - loss: 5.2672e-04\n",
            "Epoch 11/20\n",
            "38/38 [==============================] - 0s 6ms/step - loss: 4.6423e-04\n",
            "Epoch 12/20\n",
            "38/38 [==============================] - 0s 6ms/step - loss: 4.6785e-04\n",
            "Epoch 13/20\n",
            "38/38 [==============================] - 0s 6ms/step - loss: 4.4976e-04\n",
            "Epoch 14/20\n",
            "38/38 [==============================] - 0s 6ms/step - loss: 4.6459e-04\n",
            "Epoch 15/20\n",
            "38/38 [==============================] - 0s 6ms/step - loss: 4.3197e-04\n",
            "Epoch 16/20\n",
            "38/38 [==============================] - 0s 6ms/step - loss: 4.0500e-04\n",
            "Epoch 17/20\n",
            "38/38 [==============================] - 0s 7ms/step - loss: 4.0533e-04\n",
            "Epoch 18/20\n",
            "38/38 [==============================] - 0s 6ms/step - loss: 4.3011e-04\n",
            "Epoch 19/20\n",
            "38/38 [==============================] - 0s 6ms/step - loss: 4.0334e-04\n",
            "Epoch 20/20\n",
            "38/38 [==============================] - 0s 6ms/step - loss: 5.1370e-04\n"
          ]
        },
        {
          "output_type": "execute_result",
          "data": {
            "text/plain": [
              "<keras.src.callbacks.History at 0x7be03a30d390>"
            ]
          },
          "metadata": {},
          "execution_count": 13
        }
      ]
    },
    {
      "cell_type": "code",
      "source": [
        "dataset_test = pd.read_csv('testset.csv')\n",
        "test_set = dataset_test.iloc[:,1:2].values\n",
        "test_set.shape"
      ],
      "metadata": {
        "colab": {
          "base_uri": "https://localhost:8080/"
        },
        "id": "hbnNhfAD4aC_",
        "outputId": "fbfb707d-f47f-4635-e016-51160a9dce28"
      },
      "execution_count": 15,
      "outputs": [
        {
          "output_type": "execute_result",
          "data": {
            "text/plain": [
              "(125, 1)"
            ]
          },
          "metadata": {},
          "execution_count": 15
        }
      ]
    },
    {
      "cell_type": "code",
      "source": [
        "dataset_total = pd.concat((dataset_train['Open'],dataset_test['Open']),axis=0)\n",
        "inputs = dataset_total.values\n",
        "inputs = inputs.reshape(-1,1)\n",
        "inputs_scaled=sc.transform(inputs)\n",
        "X_test = []\n",
        "y_test = []\n",
        "for i in range(60,1384):\n",
        "    X_test.append(inputs_scaled[i-60:i,0])\n",
        "    y_test.append(inputs_scaled[i,0])\n",
        "X_test = np.array(X_test)\n",
        "X_test = np.reshape(X_test,(X_test.shape[0], X_test.shape[1],1))\n",
        "\n",
        "X_test.shape"
      ],
      "metadata": {
        "colab": {
          "base_uri": "https://localhost:8080/"
        },
        "id": "2NoGG0ul4dt1",
        "outputId": "5ef40c81-ea73-4e8b-a84e-158934334d60"
      },
      "execution_count": 16,
      "outputs": [
        {
          "output_type": "execute_result",
          "data": {
            "text/plain": [
              "(1324, 60, 1)"
            ]
          },
          "metadata": {},
          "execution_count": 16
        }
      ]
    },
    {
      "cell_type": "code",
      "source": [
        "predicted_stock_price_scaled = model.predict(X_test)\n",
        "predicted_stock_price = sc.inverse_transform(predicted_stock_price_scaled)\n",
        "\n",
        "plt.plot(np.arange(0,1384),inputs, color='indigo', label = 'Test data')\n",
        "plt.plot(np.arange(60,1384),predicted_stock_price, color='skyblue', label = 'Predicted stock price')\n",
        "plt.title('Stock Price Prediction')\n",
        "plt.xlabel('Time')\n",
        "plt.ylabel('Stock Price')\n",
        "plt.legend()\n",
        "plt.show()"
      ],
      "metadata": {
        "colab": {
          "base_uri": "https://localhost:8080/",
          "height": 489
        },
        "id": "GhC9Vn1g4fRd",
        "outputId": "17b3cbcb-b8bb-4c52-e5c0-312eb8e46a1c"
      },
      "execution_count": 18,
      "outputs": [
        {
          "output_type": "stream",
          "name": "stdout",
          "text": [
            "42/42 [==============================] - 0s 4ms/step\n"
          ]
        },
        {
          "output_type": "display_data",
          "data": {
            "text/plain": [
              "<Figure size 640x480 with 1 Axes>"
            ],
            "image/png": "[encoded data removed]"
          },
          "metadata": {}
        }
      ]
    },
    {
      "cell_type": "code",
      "source": [
        "from sklearn.metrics import mean_squared_error as mse\n",
        "mse(y_test,predicted_stock_price)"
      ],
      "metadata": {
        "colab": {
          "base_uri": "https://localhost:8080/"
        },
        "id": "kdHdX3UM6pp8",
        "outputId": "913338fe-55de-474e-b760-4d3099df5474"
      },
      "execution_count": 19,
      "outputs": [
        {
          "output_type": "execute_result",
          "data": {
            "text/plain": [
              "526531.3743013411"
            ]
          },
          "metadata": {},
          "execution_count": 19
        }
      ]
    }
  ]
}